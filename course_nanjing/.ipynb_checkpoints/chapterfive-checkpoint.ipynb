{
 "cells": [
  {
   "cell_type": "markdown",
   "metadata": {},
   "source": [
    "# 第五周Python便携数据获取与预处理\n",
    "数据收集》数据探索与预处理（数据清洗、数据变换、数据规约）》数据分析与挖掘》结果评价》呈现\n",
    "## 5.1 数据的收集\n",
    "1. 本地数据\n",
    "    1. txt文本打开\n",
    "    2. .csv文件打开\n",
    "    3. .xlsx文件打开\n",
    "    4. 数据库打开\n",
    "2. 网络数据\n",
    "    1. API获取数据\n",
    "    2. 一些模块库自带\n",
    "        1. sklearn模块的datasets\n",
    "        2. NLTK语料库\n",
    "3. 从网络爬取到本地\n",
    "    1. 爬虫\n",
    "\n",
    "## 5.2 结果展示\n",
    "    1. Matplotlib绘图\n",
    "        * 主要用于二维绘图\n",
    "        * 绘图质量高\n",
    "    2. pandas绘图\n",
    "    3. seaborn绘图\n",
    "    4. pyechart绘图\n",
    "## 5.3 数据探索与预处理\n",
    "    1. 数据探索\n",
    "        * 检查数据错误\n",
    "        * 了解数据分布特征和内在规律\n",
    "    2. 数据预处理\n",
    "        * 数据清洗 Data cleaning\n",
    "        * 数据集成 Data integration\n",
    "        * 数据变换 Data transformation\n",
    "        * 数据规约 Data reduction\n",
    "    3. 数据清洗\n",
    "        * 缺失值处理\n",
    "        * 异常值处理\n",
    "## 5.4 数据预处理之数据变换-把数据变换成合适的形式\n",
    "    1. 规范化\n",
    "        1. 解决哪些影响？\n",
    "            * 量纲不同\n",
    "            * 数值范围差异大\n",
    "        2. 规范化常用方法\n",
    "            * 最小-最大规范化\n",
    "            * z-score规范化\n",
    "            * 小数定标规范化\n",
    "    2. 连续属性离散化\n",
    "        1. 方法：\n",
    "            * 分箱（binning）：等宽法，等频法\n",
    "            * 聚类\n",
    "    3. 特征二值化binarization\n",
    "## 5.5 数据预处理之数据规约\n",
    "    1. 目的：对属性和数值进行规约获得一个比原数据集的小的多的规约表示，但仍接近原数据的完整性，在规约后数据集上挖掘可产生近乎相同的分析结果\n",
    "    2. 属性规约：向前选择，向后删除，决策树，PCA\n",
    "    3. 数值规约：有参方法（回归法，对数线性模型），无参法（直方图，聚类，抽样）\n",
    "        "
   ]
  },
  {
   "cell_type": "code",
   "execution_count": null,
   "metadata": {},
   "outputs": [],
   "source": [
    "# \n",
    "from PIL import Image\n",
    "\n",
    "im1 = Image.open(\"week5Portable data acquisition and preprocessing.png\")\n",
    "im1"
   ]
  },
  {
   "cell_type": "code",
   "execution_count": null,
   "metadata": {},
   "outputs": [],
   "source": []
  }
 ],
 "metadata": {
  "kernelspec": {
   "display_name": "Python 3",
   "language": "python",
   "name": "python3"
  },
  "language_info": {
   "codemirror_mode": {
    "name": "ipython",
    "version": 3
   },
   "file_extension": ".py",
   "mimetype": "text/x-python",
   "name": "python",
   "nbconvert_exporter": "python",
   "pygments_lexer": "ipython3",
   "version": "3.7.4"
  }
 },
 "nbformat": 4,
 "nbformat_minor": 2
}
